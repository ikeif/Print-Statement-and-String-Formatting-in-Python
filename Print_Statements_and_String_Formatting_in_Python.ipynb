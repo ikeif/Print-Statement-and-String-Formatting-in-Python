{
  "cells": [
    {
      "cell_type": "markdown",
      "metadata": {
        "id": "KZR8An9-eof5"
      },
      "source": [
        "<h1><center>Print Statements and String Formatting in Python</center></h1>"
      ]
    },
    {
      "cell_type": "markdown",
      "metadata": {
        "id": "aXge1Bl3eof5"
      },
      "source": [
        "## Learning Goals\n",
        "+ How to implement a simple print statement\n",
        "+ How to use the str.format() method\n",
        "+ How to use the f-string method\n",
        "+ How to include quotations\n",
        "+ Writing multiline strings\n"
      ]
    },
    {
      "cell_type": "markdown",
      "metadata": {
        "id": "HHUn8hwHeof5"
      },
      "source": [
        "## 1. How to implement a simple print statement"
      ]
    },
    {
      "cell_type": "code",
      "source": [
        "print(\"Hello World\")"
      ],
      "metadata": {
        "id": "fGBtZohTahVr",
        "colab": {
          "base_uri": "https://localhost:8080/"
        },
        "outputId": "b726eb60-13b7-4c76-e38c-c431ad5e2c50"
      },
      "execution_count": 1,
      "outputs": [
        {
          "output_type": "stream",
          "name": "stdout",
          "text": [
            "Hello World\n"
          ]
        }
      ]
    },
    {
      "cell_type": "code",
      "source": [
        ""
      ],
      "metadata": {
        "colab": {
          "base_uri": "https://localhost:8080/",
          "height": 35
        },
        "id": "_LEonIJnlhVE",
        "outputId": "23ca2318-5429-4b7b-a3f5-29de52040d65"
      },
      "execution_count": null,
      "outputs": [
        {
          "output_type": "execute_result",
          "data": {
            "text/plain": [
              "'Hello World'"
            ],
            "application/vnd.google.colaboratory.intrinsic+json": {
              "type": "string"
            }
          },
          "metadata": {},
          "execution_count": 8
        }
      ]
    },
    {
      "cell_type": "code",
      "source": [
        ""
      ],
      "metadata": {
        "id": "tDp1WPrKbGLE"
      },
      "execution_count": null,
      "outputs": []
    },
    {
      "cell_type": "markdown",
      "metadata": {
        "id": "m1VeTL9eeof6"
      },
      "source": [
        "#### Suppose we want assign values to variables and print them."
      ]
    },
    {
      "cell_type": "code",
      "execution_count": null,
      "metadata": {
        "colab": {
          "base_uri": "https://localhost:8080/"
        },
        "id": "5I3mtkhAeof6",
        "outputId": "8c7ecd6d-fe65-4e2d-8d80-111a38f53157"
      },
      "outputs": [
        {
          "output_type": "stream",
          "name": "stdout",
          "text": [
            "John Banker\n"
          ]
        }
      ],
      "source": [
        "name='John'\n",
        "occupation='Banker'\n",
        "age=28\n",
        "location=\"New Jersey\"\n",
        "\n",
        "print(name,occupation)"
      ]
    },
    {
      "cell_type": "markdown",
      "metadata": {
        "id": "B8IZUyfdeof6"
      },
      "source": [
        "#### But that's not interesting. You may want to write a sentence about John being a banker. Then we can have:"
      ]
    },
    {
      "cell_type": "code",
      "execution_count": null,
      "metadata": {
        "id": "f05h1tSZeof6",
        "outputId": "26cbbd06-2c1d-4548-bc03-8cb2b8a8832c"
      },
      "outputs": [
        {
          "name": "stdout",
          "output_type": "stream",
          "text": [
            "John is a Banker who lives at New Jersey\n"
          ]
        }
      ],
      "source": [
        "print(name,\"is a\",occupation,\"who lives at\",location)"
      ]
    },
    {
      "cell_type": "markdown",
      "metadata": {
        "id": "h8b1iRUVeof6"
      },
      "source": [
        "Likewise, we can write:"
      ]
    },
    {
      "cell_type": "code",
      "execution_count": null,
      "metadata": {
        "id": "EAEUEJfaeof7",
        "outputId": "1eb96c4d-89b6-4224-f401-6c24c80f2aa2"
      },
      "outputs": [
        {
          "name": "stdout",
          "output_type": "stream",
          "text": [
            "John is a Banker\n"
          ]
        }
      ],
      "source": [
        "print(name +\" is a \" +occupation)"
      ]
    },
    {
      "cell_type": "markdown",
      "metadata": {
        "id": "Oemzxk5seof7"
      },
      "source": [
        "Notice that I had to leave some space when using the plus sign."
      ]
    },
    {
      "cell_type": "markdown",
      "metadata": {
        "id": "HN8zieRmeof7"
      },
      "source": [
        "We could perform a mathematical operation:"
      ]
    },
    {
      "cell_type": "code",
      "execution_count": null,
      "metadata": {
        "id": "jzZUmbzCeof7",
        "outputId": "421a48f4-27dd-4f69-c261-04d331e289a3"
      },
      "outputs": [
        {
          "name": "stdout",
          "output_type": "stream",
          "text": [
            "The product of 100 and 5 is 500\n"
          ]
        }
      ],
      "source": [
        "print(\"The product of 100 and 5 is\",100*5)"
      ]
    },
    {
      "cell_type": "markdown",
      "metadata": {
        "id": "qAf6M9YBeof7"
      },
      "source": [
        "Do remember to add the comma sign else you would have an error."
      ]
    },
    {
      "cell_type": "markdown",
      "metadata": {
        "id": "HPOYWhHWeof7"
      },
      "source": [
        "## 2. The <i>str.format()</i> method"
      ]
    },
    {
      "cell_type": "markdown",
      "metadata": {
        "id": "DQMm5Rggeof7"
      },
      "source": [
        "We use the <i>str.format()</i> method for a more dynamic use of the print statement.\\\n",
        "Here, we put curly brackets where we want to add variables."
      ]
    },
    {
      "cell_type": "code",
      "execution_count": null,
      "metadata": {
        "id": "9N3UabzCeof7",
        "outputId": "99487ff4-b9f5-4469-e101-db34c73f4f54"
      },
      "outputs": [
        {
          "name": "stdout",
          "output_type": "stream",
          "text": [
            "John is a Banker who lives at New Jersey. He is 28 years old.\n"
          ]
        }
      ],
      "source": [
        "print(\"{} is a {} who lives at {}. He is {} years old.\".format(name,occupation,location,age))"
      ]
    },
    {
      "cell_type": "markdown",
      "metadata": {
        "id": "DOJWJcoqeof7"
      },
      "source": [
        "This method is great. But there is an even better method that makes your coding cleaner. It is the f-string method!"
      ]
    },
    {
      "cell_type": "markdown",
      "metadata": {
        "id": "fcJIEU-peof7"
      },
      "source": [
        "## 3. The f-string method"
      ]
    },
    {
      "cell_type": "code",
      "execution_count": null,
      "metadata": {
        "id": "MAnC5ZHDeof7",
        "outputId": "77b46015-5028-4e6d-8859-e0ea0d31d163"
      },
      "outputs": [
        {
          "name": "stdout",
          "output_type": "stream",
          "text": [
            "John is a Banker\n"
          ]
        }
      ],
      "source": [
        "print(f\"{name} is a {occupation}\")"
      ]
    },
    {
      "cell_type": "code",
      "execution_count": null,
      "metadata": {
        "id": "17LWqyHSeof8",
        "outputId": "236cb84d-26cf-45f9-b2eb-c1c7f4d1b932"
      },
      "outputs": [
        {
          "name": "stdout",
          "output_type": "stream",
          "text": [
            "John is a Banker who lives at New Jersey. He is 28 years old\n"
          ]
        }
      ],
      "source": [
        "print(f\"{name} is a {occupation} who lives at {location}. He is {age} years old\")"
      ]
    },
    {
      "cell_type": "markdown",
      "metadata": {
        "id": "SjuDjjkieof8"
      },
      "source": [
        "So, you see here, all we had to do was to write an f, then put our quotations (we could also write capital F and still be correct)  then write our variables in curly brackets. "
      ]
    },
    {
      "cell_type": "markdown",
      "metadata": {
        "id": "yQv7-7_Veof8"
      },
      "source": [
        "Which do you prefer?"
      ]
    },
    {
      "cell_type": "markdown",
      "metadata": {
        "id": "uHcpPK-Veof8"
      },
      "source": [
        "We can use the f string to do more interesting things like performing a mathematical operation"
      ]
    },
    {
      "cell_type": "code",
      "execution_count": null,
      "metadata": {
        "id": "Q66DG-TSeof8",
        "outputId": "a7465ec1-c659-44a1-a9e3-a7019bfa3751"
      },
      "outputs": [
        {
          "name": "stdout",
          "output_type": "stream",
          "text": [
            "0.6\n"
          ]
        }
      ],
      "source": [
        "print(f\"{3/5}\")"
      ]
    },
    {
      "cell_type": "markdown",
      "metadata": {
        "id": "oROMaIrdeof8"
      },
      "source": [
        "Note: Remember to write the operation in curly brackets else it would be regarded as string. \\\n",
        "Look at the example below:"
      ]
    },
    {
      "cell_type": "code",
      "execution_count": null,
      "metadata": {
        "id": "5ms1O6vbeof8",
        "outputId": "01cab6cb-986c-49cc-976e-cb83235dd0d1"
      },
      "outputs": [
        {
          "name": "stdout",
          "output_type": "stream",
          "text": [
            "3/5\n"
          ]
        }
      ],
      "source": [
        "print(f\"3/5\")"
      ]
    },
    {
      "cell_type": "markdown",
      "metadata": {
        "id": "BzFla8SEeof8"
      },
      "source": [
        "### Printing out values from a dictionary"
      ]
    },
    {
      "cell_type": "code",
      "execution_count": null,
      "metadata": {
        "id": "Y508_WOheof8"
      },
      "outputs": [],
      "source": [
        "bio={\"name\":'John',\n",
        "     \"occupation\":'Banker',\n",
        "     \"age\":28,\n",
        "     \"location\":\"New Jersey\"}"
      ]
    },
    {
      "cell_type": "code",
      "execution_count": null,
      "metadata": {
        "id": "hxcX21DQeof8",
        "outputId": "e76b74f3-3a9c-4d5d-91f5-c92e45d13292"
      },
      "outputs": [
        {
          "name": "stdout",
          "output_type": "stream",
          "text": [
            "John is a Banker who lives at New Jersey. He is 28 years old\n"
          ]
        }
      ],
      "source": [
        "print(f'{bio[\"name\"]} is a {bio[\"occupation\"]} who lives at {bio[\"location\"]}. He is {bio[\"age\"]} years old')"
      ]
    },
    {
      "cell_type": "markdown",
      "metadata": {
        "id": "fRX2d8VMeof8"
      },
      "source": [
        "Note that if you use double quotations as your keys in your dictionary, then you have to use single quotations when calling the f-string and vice versa. Else, you would have an error like this:"
      ]
    },
    {
      "cell_type": "code",
      "execution_count": null,
      "metadata": {
        "id": "PE59qy7Meof8",
        "outputId": "3cdb7cbe-f438-4b0c-c73b-fd1959497639"
      },
      "outputs": [
        {
          "ename": "SyntaxError",
          "evalue": "invalid syntax (<ipython-input-22-c47e3e39c5fd>, line 1)",
          "output_type": "error",
          "traceback": [
            "\u001b[1;36m  File \u001b[1;32m\"<ipython-input-22-c47e3e39c5fd>\"\u001b[1;36m, line \u001b[1;32m1\u001b[0m\n\u001b[1;33m    print(f\"{bio[\"name\"]} is a {bio[\"occupation\"]} who lives at {bio[\"location\"]}. He is {bio[\"age\"]} years old\")\u001b[0m\n\u001b[1;37m                  ^\u001b[0m\n\u001b[1;31mSyntaxError\u001b[0m\u001b[1;31m:\u001b[0m invalid syntax\n"
          ]
        }
      ],
      "source": [
        "print(f\"{bio[\"name\"]} is a {bio[\"occupation\"]} who lives at {bio[\"location\"]}. He is {bio[\"age\"]} years old\")"
      ]
    },
    {
      "cell_type": "markdown",
      "metadata": {
        "id": "UJrQTPKjeof8"
      },
      "source": [
        "## 4. How to include quotations"
      ]
    },
    {
      "cell_type": "markdown",
      "metadata": {
        "id": "pFfg5gVGeof9"
      },
      "source": [
        "Now suppose you want to include quotations in your text.\n",
        "\n",
        "-To add quotations to your text, write the normal quotations like you do when you want to write a print statement. Then add a backslash, the quotation mark you want to introduce in your text, the text, a backslash and another quotation."
      ]
    },
    {
      "cell_type": "code",
      "execution_count": null,
      "metadata": {
        "colab": {
          "base_uri": "https://localhost:8080/"
        },
        "id": "1214ZIYKeof9",
        "outputId": "620b1740-05f9-4b16-c21a-5b0da757cd46"
      },
      "outputs": [
        {
          "output_type": "stream",
          "name": "stdout",
          "text": [
            "The man is John\n"
          ]
        }
      ],
      "source": [
        "print(\"The man is John\")"
      ]
    },
    {
      "cell_type": "code",
      "execution_count": null,
      "metadata": {
        "id": "zHW7LQuseof9",
        "outputId": "0933d4a4-1a60-40f5-b972-ecec256994ff"
      },
      "outputs": [
        {
          "name": "stdout",
          "output_type": "stream",
          "text": [
            "'The man is John'\n"
          ]
        }
      ],
      "source": [
        "print(f'\\'The man is {name}\\'')"
      ]
    },
    {
      "cell_type": "markdown",
      "metadata": {
        "id": "kSNPmFHjeof9"
      },
      "source": [
        "We can also do the same thing to include double quotations"
      ]
    },
    {
      "cell_type": "code",
      "execution_count": null,
      "metadata": {
        "id": "Uow4JaYZeof9",
        "outputId": "8387078e-a970-4132-9097-2a41d677e549"
      },
      "outputs": [
        {
          "name": "stdout",
          "output_type": "stream",
          "text": [
            "\"The man is John\"\n"
          ]
        }
      ],
      "source": [
        "print(f'\\\"The man is {name}\\\"')"
      ]
    },
    {
      "cell_type": "markdown",
      "source": [
        "## 5. Formatting long text"
      ],
      "metadata": {
        "id": "usPDq6xdf8-d"
      }
    },
    {
      "cell_type": "markdown",
      "source": [
        "a. Long text on the same line"
      ],
      "metadata": {
        "id": "bHtlgUjfohVB"
      }
    },
    {
      "cell_type": "code",
      "source": [
        "long_1='Lorem ipsum dolor sit amet, \\\n",
        "consectetur adipiscing elit, \\\n",
        "sed do eiusmod tempor incididunt \\\n",
        "ut labore et dolore magna aliqua.'\n",
        "print(long_1)"
      ],
      "metadata": {
        "colab": {
          "base_uri": "https://localhost:8080/"
        },
        "id": "K_LSbW0fooG9",
        "outputId": "5482ca36-496b-47b2-a5e4-c08b7b43835c"
      },
      "execution_count": null,
      "outputs": [
        {
          "output_type": "stream",
          "name": "stdout",
          "text": [
            "Lorem ipsum dolor sit amet, consectetur adipiscing elit, sed do eiusmod tempor incididunt ut labore et dolore magna aliqua.\n"
          ]
        }
      ]
    },
    {
      "cell_type": "markdown",
      "source": [
        "b. Long text in different lines."
      ],
      "metadata": {
        "id": "UIGKvXVRo8wd"
      }
    },
    {
      "cell_type": "code",
      "source": [
        "long_2='''Lorem ipsum dolor sit amet,\n",
        "consectetur adipiscing elit,\n",
        "sed do eiusmod tempor incididunt \n",
        "ut labore et dolore magna aliqua.'''\n",
        "print(long_2)"
      ],
      "metadata": {
        "colab": {
          "base_uri": "https://localhost:8080/"
        },
        "id": "tUJb-IHYfV_W",
        "outputId": "7ba22812-bb87-454f-91c3-b9d85f7f4c6a"
      },
      "execution_count": null,
      "outputs": [
        {
          "output_type": "stream",
          "name": "stdout",
          "text": [
            "Lorem ipsum dolor sit amet,\n",
            "consectetur adipiscing elit,\n",
            "sed do eiusmod tempor incididunt \n",
            "ut labore et dolore magna aliqua.\n"
          ]
        }
      ]
    },
    {
      "cell_type": "code",
      "source": [
        ""
      ],
      "metadata": {
        "id": "Z9pp4c6rpCUT"
      },
      "execution_count": null,
      "outputs": []
    }
  ],
  "metadata": {
    "kernelspec": {
      "display_name": "Python 3",
      "language": "python",
      "name": "python3"
    },
    "language_info": {
      "codemirror_mode": {
        "name": "ipython",
        "version": 3
      },
      "file_extension": ".py",
      "mimetype": "text/x-python",
      "name": "python",
      "nbconvert_exporter": "python",
      "pygments_lexer": "ipython3",
      "version": "3.8.5"
    },
    "colab": {
      "name": "Print Statements and String Formatting in Python.ipynb",
      "provenance": [],
      "collapsed_sections": []
    }
  },
  "nbformat": 4,
  "nbformat_minor": 0
}